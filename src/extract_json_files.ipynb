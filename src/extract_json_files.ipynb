{
 "cells": [
  {
   "cell_type": "code",
   "execution_count": 9,
   "metadata": {},
   "outputs": [],
   "source": [
    "import json\n",
    "import pymysql as mc\n",
    "import sqlalchemy\n",
    "from sqlalchemy import create_engine\n",
    "from getpass import getpass\n",
    "import Credentials as cred\n",
    "import pandas as pd"
   ]
  },
  {
   "cell_type": "code",
   "execution_count": 10,
   "metadata": {},
   "outputs": [],
   "source": [
    "file1 = 'data/yelp_academic_dataset_business.json'\n",
    "file2 = 'data/yelp_academic_dataset_checkin.json'\n",
    "file3 = 'data/yelp_academic_dataset_photo.json'\n",
    "file4 = 'data/yelp_academic_dataset_review.json'\n",
    "file5 = 'data/yelp_academic_dataset_tip.json'\n",
    "file6 = 'data/yelp_academic_dataset_user.json'\n",
    "files = [file1,file2,file3,file4,file5,file6]\n",
    "names = ['business','checkin','photo','review','tip','user']"
   ]
  },
  {
   "cell_type": "code",
   "execution_count": 11,
   "metadata": {},
   "outputs": [
    {
     "name": "stdout",
     "output_type": "stream",
     "text": [
      "········\n"
     ]
    }
   ],
   "source": [
    "pw = getpass()"
   ]
  },
  {
   "cell_type": "code",
   "execution_count": 13,
   "metadata": {},
   "outputs": [],
   "source": [
    "cnx = create_engine('mysql+pymysql://'+cred.user+':'+pw+'@'+cred.host+':3306/'+cred.db_name,echo=False)"
   ]
  },
  {
   "cell_type": "code",
   "execution_count": null,
   "metadata": {},
   "outputs": [
    {
     "name": "stdout",
     "output_type": "stream",
     "text": [
      "done with business\n",
      "done with photo\n"
     ]
    }
   ],
   "source": [
    "for i, file in enumerate(files):\n",
    "    # don't care about checkins\n",
    "    if names[i] == 'checkin':\n",
    "        continue\n",
    "    \n",
    "    # read the entire file into a python array\n",
    "    with open(file, 'r') as f:\n",
    "        data = f.readlines()\n",
    "        data = [x.encode('utf-8').decode('latin-1') for x in data]\n",
    "    # remove the trailing \"\\n\" from each line\n",
    "    data = map(lambda x: x.rstrip(), data)\n",
    "    data_json_str = \"[\" + ','.join(data) + \"]\"\n",
    "    # now, load it into pandas\n",
    "    data_df = pd.read_json(data_json_str)\n",
    "    if names[i] == 'business':\n",
    "        data_df = data_df.drop(columns=['attributes','hours'])\n",
    "    data_df.to_sql(names[i],cnx,if_exists='replace')\n",
    "    print (f'done with {names[i]}')"
   ]
  },
  {
   "cell_type": "code",
   "execution_count": 37,
   "metadata": {},
   "outputs": [
    {
     "data": {
      "text/plain": [
       "address                   9719 N Hayden Rd\n",
       "business_id         rFeJgbnLxtcdqIpBdhpxtQ\n",
       "categories            Italian, Restaurants\n",
       "city                            Scottsdale\n",
       "is_open                                  0\n",
       "latitude                            33.575\n",
       "longitude                         -111.905\n",
       "name            Vocé Ristorante and Lounge\n",
       "neighborhood                              \n",
       "postal_code                          85258\n",
       "review_count                            13\n",
       "stars                                    4\n",
       "state                                   AZ\n",
       "Name: 132, dtype: object"
      ]
     },
     "execution_count": 37,
     "metadata": {},
     "output_type": "execute_result"
    }
   ],
   "source": [
    "data_df.iloc[132]"
   ]
  }
 ],
 "metadata": {
  "kernelspec": {
   "display_name": "Python 3",
   "language": "python",
   "name": "python3"
  },
  "language_info": {
   "codemirror_mode": {
    "name": "ipython",
    "version": 3
   },
   "file_extension": ".py",
   "mimetype": "text/x-python",
   "name": "python",
   "nbconvert_exporter": "python",
   "pygments_lexer": "ipython3",
   "version": "3.6.2"
  }
 },
 "nbformat": 4,
 "nbformat_minor": 2
}
