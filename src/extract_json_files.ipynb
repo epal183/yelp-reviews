{
 "cells": [
  {
   "cell_type": "code",
   "execution_count": 1,
   "metadata": {},
   "outputs": [],
   "source": [
    "import json\n",
    "import pymysql as mc\n",
    "import sqlalchemy\n",
    "from sqlalchemy import create_engine\n",
    "from getpass import getpass\n",
    "# import Credentials as cred\n",
    "import pandas as pd"
   ]
  },
  {
   "cell_type": "code",
   "execution_count": 2,
   "metadata": {},
   "outputs": [],
   "source": [
    "file1 = 'data/yelp_academic_dataset_business.json'\n",
    "file2 = 'data/yelp_academic_dataset_checkin.json'\n",
    "file3 = 'data/yelp_academic_dataset_photo.json'\n",
    "file4 = 'data/yelp_academic_dataset_review.json'\n",
    "file5 = 'data/yelp_academic_dataset_tip.json'\n",
    "file6 = 'data/yelp_academic_dataset_user.json'\n",
    "files = [file1,file2,file3,file4,file5,file6]\n",
    "names = ['business','checkin','photo','review','tip','user']"
   ]
  },
  {
   "cell_type": "code",
   "execution_count": 3,
   "metadata": {},
   "outputs": [
    {
     "name": "stdout",
     "output_type": "stream",
     "text": [
      "········\n"
     ]
    }
   ],
   "source": [
    "pw = getpass()"
   ]
  },
  {
   "cell_type": "code",
   "execution_count": 4,
   "metadata": {},
   "outputs": [],
   "source": [
    "cnx = create_engine('mysql+pymysql://'+'root'+':'+pw+'@'+'localhost'+':3306/'+'yelp',echo=False)"
   ]
  },
  {
   "cell_type": "code",
   "execution_count": 5,
   "metadata": {},
   "outputs": [
    {
     "name": "stdout",
     "output_type": "stream",
     "text": [
      "done reading the lines of user\n",
      "done getting the dataframe of user\n"
     ]
    },
    {
     "name": "stderr",
     "output_type": "stream",
     "text": [
      "/Users/edgarpal/anaconda3/lib/python3.6/site-packages/pymysql/cursors.py:170: Warning: (3719, \"'utf8' is currently an alias for the character set UTF8MB3, but will be an alias for UTF8MB4 in a future release. Please consider using UTF8MB4 in order to be unambiguous.\")\n",
      "  result = self._query(query)\n"
     ]
    },
    {
     "name": "stdout",
     "output_type": "stream",
     "text": [
      "done with user\n"
     ]
    }
   ],
   "source": [
    "for i, file in enumerate(files):\n",
    "    # don't care about checkins\n",
    "    if names[i] in ['business', 'checkin', 'photo', 'review', 'tip']:\n",
    "        continue\n",
    "    \n",
    "    # read the entire file into a python array\n",
    "    with open(file, 'r') as f:\n",
    "        data = f.readlines()\n",
    "        data = [x.encode('utf-8').decode('latin-1') for x in data]\n",
    "    \n",
    "    print (f'done reading the lines of {names[i]}')\n",
    "    # remove the trailing \"\\n\" from each line\n",
    "    data = map(lambda x: x.rstrip(), data)\n",
    "    data_json_str = \"[\" + ','.join(data) + \"]\"\n",
    "    data = None\n",
    "    # now, load it into pandas\n",
    "    data_df = pd.read_json(data_json_str)\n",
    "    data_json_str = None \n",
    "    \n",
    "    print (f'done getting the dataframe of {names[i]}')\n",
    "    if names[i] == 'business':\n",
    "        data_df = data_df.drop(columns=['attributes','hours'])\n",
    "    if names[i] == 'user':\n",
    "        data_df = data_df.drop(columns=['friends'])\n",
    "    #data_df.to_csv(names[i] + '.csv', index = False)\n",
    "    data_df.to_sql(names[i],cnx,if_exists='replace', index=False)\n",
    "    print (f'done with {names[i]}')\n",
    "    data_df = None"
   ]
  },
  {
   "cell_type": "code",
   "execution_count": 13,
   "metadata": {},
   "outputs": [],
   "source": []
  }
 ],
 "metadata": {
  "kernelspec": {
   "display_name": "Python 3",
   "language": "python",
   "name": "python3"
  },
  "language_info": {
   "codemirror_mode": {
    "name": "ipython",
    "version": 3
   },
   "file_extension": ".py",
   "mimetype": "text/x-python",
   "name": "python",
   "nbconvert_exporter": "python",
   "pygments_lexer": "ipython3",
   "version": "3.6.4"
  }
 },
 "nbformat": 4,
 "nbformat_minor": 2
}
