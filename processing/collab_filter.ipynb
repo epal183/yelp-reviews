{
 "cells": [
  {
   "cell_type": "code",
   "execution_count": 1,
   "metadata": {},
   "outputs": [],
   "source": [
    "from getpass import getpass\n",
    "from sqlalchemy import create_engine\n",
    "import pandas as pd\n",
    "\n",
    "from surprise import Dataset, Reader, KNNBasic, accuracy\n",
    "from surprise.model_selection import KFold"
   ]
  },
  {
   "cell_type": "code",
   "execution_count": 2,
   "metadata": {},
   "outputs": [
    {
     "name": "stdout",
     "output_type": "stream",
     "text": [
      "········\n"
     ]
    }
   ],
   "source": [
    "# MySQL password\n",
    "pw = getpass()"
   ]
  },
  {
   "cell_type": "code",
   "execution_count": 3,
   "metadata": {},
   "outputs": [],
   "source": [
    "cnx = create_engine('mysql+pymysql://'+'root'+':'+pw+'@'+'localhost'+':3306/'+'yelp',echo=False)"
   ]
  },
  {
   "cell_type": "code",
   "execution_count": 4,
   "metadata": {},
   "outputs": [
    {
     "name": "stderr",
     "output_type": "stream",
     "text": [
      "/Users/edgarpal/anaconda3/lib/python3.6/site-packages/pymysql/cursors.py:170: Warning: (3719, \"'utf8' is currently an alias for the character set UTF8MB3, but will be an alias for UTF8MB4 in a future release. Please consider using UTF8MB4 in order to be unambiguous.\")\n",
      "  result = self._query(query)\n"
     ]
    }
   ],
   "source": [
    "restaurants = pd.read_sql('business_rest', cnx)"
   ]
  },
  {
   "cell_type": "code",
   "execution_count": 5,
   "metadata": {},
   "outputs": [],
   "source": [
    "review = pd.read_sql('select review_id, user_id, business_id, stars from review', cnx)"
   ]
  },
  {
   "cell_type": "code",
   "execution_count": 6,
   "metadata": {},
   "outputs": [],
   "source": [
    "user = pd.read_sql('select * from user', cnx)"
   ]
  },
  {
   "cell_type": "code",
   "execution_count": 7,
   "metadata": {},
   "outputs": [],
   "source": [
    "reviews_rest = review.merge(restaurants, how = 'inner', on = 'business_id', suffixes = ('_rev', '_rest'))"
   ]
  },
  {
   "cell_type": "code",
   "execution_count": 8,
   "metadata": {},
   "outputs": [],
   "source": [
    "reviews_rest2 = reviews_rest.merge(user, how = 'left', on = 'user_id')"
   ]
  },
  {
   "cell_type": "code",
   "execution_count": 9,
   "metadata": {},
   "outputs": [
    {
     "data": {
      "text/plain": [
       "0.6094771448905418"
      ]
     },
     "execution_count": 9,
     "metadata": {},
     "output_type": "execute_result"
    }
   ],
   "source": [
    "# Percentage of reviews that are for restaurants\n",
    "float(reviews_rest2.shape[0] / review.shape[0])"
   ]
  },
  {
   "cell_type": "code",
   "execution_count": 10,
   "metadata": {},
   "outputs": [
    {
     "data": {
      "text/html": [
       "<div>\n",
       "<style scoped>\n",
       "    .dataframe tbody tr th:only-of-type {\n",
       "        vertical-align: middle;\n",
       "    }\n",
       "\n",
       "    .dataframe tbody tr th {\n",
       "        vertical-align: top;\n",
       "    }\n",
       "\n",
       "    .dataframe thead th {\n",
       "        text-align: right;\n",
       "    }\n",
       "</style>\n",
       "<table border=\"1\" class=\"dataframe\">\n",
       "  <thead>\n",
       "    <tr style=\"text-align: right;\">\n",
       "      <th></th>\n",
       "      <th>review_id</th>\n",
       "      <th>user_id</th>\n",
       "      <th>business_id</th>\n",
       "      <th>stars_rev</th>\n",
       "      <th>address</th>\n",
       "      <th>categories</th>\n",
       "      <th>city</th>\n",
       "      <th>is_open</th>\n",
       "      <th>latitude</th>\n",
       "      <th>longitude</th>\n",
       "      <th>...</th>\n",
       "      <th>compliment_writer</th>\n",
       "      <th>cool</th>\n",
       "      <th>elite</th>\n",
       "      <th>fans</th>\n",
       "      <th>funny</th>\n",
       "      <th>name_y</th>\n",
       "      <th>review_count_y</th>\n",
       "      <th>useful</th>\n",
       "      <th>yelping_since</th>\n",
       "      <th>stars_norm</th>\n",
       "    </tr>\n",
       "  </thead>\n",
       "  <tbody>\n",
       "    <tr>\n",
       "      <th>0</th>\n",
       "      <td>x7mDIiDB3jEiPGPHOmDzyw</td>\n",
       "      <td>msQe1u7Z_XuqjGoqhB0J5g</td>\n",
       "      <td>iCQpiavjjPzJ5_3gPD5Ebg</td>\n",
       "      <td>2</td>\n",
       "      <td>3708 Las Vegas Blvd S</td>\n",
       "      <td>Pizza, Restaurants</td>\n",
       "      <td>Las Vegas</td>\n",
       "      <td>1</td>\n",
       "      <td>36.109837</td>\n",
       "      <td>-115.174212</td>\n",
       "      <td>...</td>\n",
       "      <td>0</td>\n",
       "      <td>1</td>\n",
       "      <td>None</td>\n",
       "      <td>1</td>\n",
       "      <td>1</td>\n",
       "      <td>Melissa</td>\n",
       "      <td>11</td>\n",
       "      <td>4</td>\n",
       "      <td>2011-02-24</td>\n",
       "      <td>-1.31</td>\n",
       "    </tr>\n",
       "    <tr>\n",
       "      <th>1</th>\n",
       "      <td>VluIpojME0yKOcRKI5L0Iw</td>\n",
       "      <td>D1_nrBr4dOrs7M82OaBRwQ</td>\n",
       "      <td>iCQpiavjjPzJ5_3gPD5Ebg</td>\n",
       "      <td>3</td>\n",
       "      <td>3708 Las Vegas Blvd S</td>\n",
       "      <td>Pizza, Restaurants</td>\n",
       "      <td>Las Vegas</td>\n",
       "      <td>1</td>\n",
       "      <td>36.109837</td>\n",
       "      <td>-115.174212</td>\n",
       "      <td>...</td>\n",
       "      <td>0</td>\n",
       "      <td>21</td>\n",
       "      <td>None</td>\n",
       "      <td>2</td>\n",
       "      <td>31</td>\n",
       "      <td>Raed</td>\n",
       "      <td>79</td>\n",
       "      <td>104</td>\n",
       "      <td>2010-08-31</td>\n",
       "      <td>-0.99</td>\n",
       "    </tr>\n",
       "    <tr>\n",
       "      <th>2</th>\n",
       "      <td>nsB9JAeghk0zOaSulSm9Yw</td>\n",
       "      <td>jEjc8HxeCeI22M4di0Y1aw</td>\n",
       "      <td>iCQpiavjjPzJ5_3gPD5Ebg</td>\n",
       "      <td>5</td>\n",
       "      <td>3708 Las Vegas Blvd S</td>\n",
       "      <td>Pizza, Restaurants</td>\n",
       "      <td>Las Vegas</td>\n",
       "      <td>1</td>\n",
       "      <td>36.109837</td>\n",
       "      <td>-115.174212</td>\n",
       "      <td>...</td>\n",
       "      <td>0</td>\n",
       "      <td>0</td>\n",
       "      <td>None</td>\n",
       "      <td>0</td>\n",
       "      <td>0</td>\n",
       "      <td>Cheryl</td>\n",
       "      <td>12</td>\n",
       "      <td>0</td>\n",
       "      <td>2016-05-22</td>\n",
       "      <td>0.83</td>\n",
       "    </tr>\n",
       "    <tr>\n",
       "      <th>3</th>\n",
       "      <td>pcn01EMERpCpHEcoaohdEg</td>\n",
       "      <td>RTiaaHSN80VRTLSdNK5rfQ</td>\n",
       "      <td>iCQpiavjjPzJ5_3gPD5Ebg</td>\n",
       "      <td>5</td>\n",
       "      <td>3708 Las Vegas Blvd S</td>\n",
       "      <td>Pizza, Restaurants</td>\n",
       "      <td>Las Vegas</td>\n",
       "      <td>1</td>\n",
       "      <td>36.109837</td>\n",
       "      <td>-115.174212</td>\n",
       "      <td>...</td>\n",
       "      <td>0</td>\n",
       "      <td>1</td>\n",
       "      <td>None</td>\n",
       "      <td>0</td>\n",
       "      <td>0</td>\n",
       "      <td>Allyssa</td>\n",
       "      <td>6</td>\n",
       "      <td>3</td>\n",
       "      <td>2014-06-19</td>\n",
       "      <td>0.50</td>\n",
       "    </tr>\n",
       "    <tr>\n",
       "      <th>4</th>\n",
       "      <td>0mFtAPTmInbXHqDjX9eiOg</td>\n",
       "      <td>hBmJs49zYcXdV4wo8F5iiA</td>\n",
       "      <td>iCQpiavjjPzJ5_3gPD5Ebg</td>\n",
       "      <td>5</td>\n",
       "      <td>3708 Las Vegas Blvd S</td>\n",
       "      <td>Pizza, Restaurants</td>\n",
       "      <td>Las Vegas</td>\n",
       "      <td>1</td>\n",
       "      <td>36.109837</td>\n",
       "      <td>-115.174212</td>\n",
       "      <td>...</td>\n",
       "      <td>0</td>\n",
       "      <td>0</td>\n",
       "      <td>None</td>\n",
       "      <td>0</td>\n",
       "      <td>0</td>\n",
       "      <td>Sarah</td>\n",
       "      <td>6</td>\n",
       "      <td>2</td>\n",
       "      <td>2012-12-01</td>\n",
       "      <td>1.50</td>\n",
       "    </tr>\n",
       "  </tbody>\n",
       "</table>\n",
       "<p>5 rows × 37 columns</p>\n",
       "</div>"
      ],
      "text/plain": [
       "                review_id                 user_id             business_id  \\\n",
       "0  x7mDIiDB3jEiPGPHOmDzyw  msQe1u7Z_XuqjGoqhB0J5g  iCQpiavjjPzJ5_3gPD5Ebg   \n",
       "1  VluIpojME0yKOcRKI5L0Iw  D1_nrBr4dOrs7M82OaBRwQ  iCQpiavjjPzJ5_3gPD5Ebg   \n",
       "2  nsB9JAeghk0zOaSulSm9Yw  jEjc8HxeCeI22M4di0Y1aw  iCQpiavjjPzJ5_3gPD5Ebg   \n",
       "3  pcn01EMERpCpHEcoaohdEg  RTiaaHSN80VRTLSdNK5rfQ  iCQpiavjjPzJ5_3gPD5Ebg   \n",
       "4  0mFtAPTmInbXHqDjX9eiOg  hBmJs49zYcXdV4wo8F5iiA  iCQpiavjjPzJ5_3gPD5Ebg   \n",
       "\n",
       "   stars_rev                address          categories       city  is_open  \\\n",
       "0          2  3708 Las Vegas Blvd S  Pizza, Restaurants  Las Vegas        1   \n",
       "1          3  3708 Las Vegas Blvd S  Pizza, Restaurants  Las Vegas        1   \n",
       "2          5  3708 Las Vegas Blvd S  Pizza, Restaurants  Las Vegas        1   \n",
       "3          5  3708 Las Vegas Blvd S  Pizza, Restaurants  Las Vegas        1   \n",
       "4          5  3708 Las Vegas Blvd S  Pizza, Restaurants  Las Vegas        1   \n",
       "\n",
       "    latitude   longitude     ...     compliment_writer cool elite  fans  \\\n",
       "0  36.109837 -115.174212     ...                     0    1  None     1   \n",
       "1  36.109837 -115.174212     ...                     0   21  None     2   \n",
       "2  36.109837 -115.174212     ...                     0    0  None     0   \n",
       "3  36.109837 -115.174212     ...                     0    1  None     0   \n",
       "4  36.109837 -115.174212     ...                     0    0  None     0   \n",
       "\n",
       "   funny   name_y  review_count_y  useful  yelping_since  stars_norm  \n",
       "0      1  Melissa              11       4     2011-02-24       -1.31  \n",
       "1     31     Raed              79     104     2010-08-31       -0.99  \n",
       "2      0   Cheryl              12       0     2016-05-22        0.83  \n",
       "3      0  Allyssa               6       3     2014-06-19        0.50  \n",
       "4      0    Sarah               6       2     2012-12-01        1.50  \n",
       "\n",
       "[5 rows x 37 columns]"
      ]
     },
     "execution_count": 10,
     "metadata": {},
     "output_type": "execute_result"
    }
   ],
   "source": [
    "reviews_rest2['stars_norm'] = reviews_rest2['stars_rev'] - reviews_rest2['average_stars']\n",
    "reviews_rest2.head(5)"
   ]
  },
  {
   "cell_type": "code",
   "execution_count": 11,
   "metadata": {},
   "outputs": [],
   "source": [
    "# now limit the dataset to only frequent users\n",
    "def filt_freq_users (df, low, up):\n",
    "    user_review_df = df.groupby(by='user_id').count()\n",
    "    frequent_posters = user_review_df[(user_review_df['business_id']>=low)&\n",
    "                                      (user_review_df['business_id']<=up)\n",
    "                                     ].index.values\n",
    "    condensed_df = df[df['user_id'].isin(frequent_posters)]\n",
    "    print('Shape of df returned: ', condensed_df.shape)\n",
    "    print('Percent of rows returned: ', float(condensed_df.shape[0] / df.shape[0]))\n",
    "    return condensed_df"
   ]
  },
  {
   "cell_type": "code",
   "execution_count": 12,
   "metadata": {},
   "outputs": [],
   "source": [
    "# A reader is still needed but only the rating_scale param is required.\n",
    "reader = Reader(rating_scale=(1, 5))\n",
    "reader_norm = Reader(rating_scale=(-5, 5))\n",
    "\n",
    "kf = KFold(n_splits=3)"
   ]
  },
  {
   "cell_type": "code",
   "execution_count": 13,
   "metadata": {},
   "outputs": [],
   "source": [
    "sim_options = {'name': 'pearson', # Try cosine vs. pearson\n",
    "               'user_based': False  # Try true vs. false\n",
    "               }\n",
    "algo = KNNBasic(sim_options=sim_options)"
   ]
  },
  {
   "cell_type": "code",
   "execution_count": 14,
   "metadata": {},
   "outputs": [
    {
     "name": "stdout",
     "output_type": "stream",
     "text": [
      "Shape of df returned:  (314062, 37)\n",
      "Percent of rows returned:  0.08592592349396667\n"
     ]
    }
   ],
   "source": [
    "# Variations to try:\n",
    "# 1-4, 5-9, 10-20, 21-30, 31-50, 51-100, 101-500, 500 - 9999\n",
    "reviews_rest3 = filt_freq_users(reviews_rest2, 51, 100)"
   ]
  },
  {
   "cell_type": "code",
   "execution_count": 15,
   "metadata": {},
   "outputs": [],
   "source": [
    "# The columns must correspond to user id, item id and ratings (in that order).\n",
    "# data = Dataset.load_from_df(reviews_rest3[['user_id', 'business_id', 'stars_rev']], reader)"
   ]
  },
  {
   "cell_type": "code",
   "execution_count": null,
   "metadata": {},
   "outputs": [],
   "source": [
    "# Normalized version (subtracting average stars from user)\n",
    "data_norm = Dataset.load_from_df(reviews_rest3[['user_id', 'business_id', 'stars_norm']], reader_norm)"
   ]
  },
  {
   "cell_type": "code",
   "execution_count": null,
   "metadata": {},
   "outputs": [
    {
     "name": "stdout",
     "output_type": "stream",
     "text": [
      "Computing the pearson similarity matrix...\n"
     ]
    },
    {
     "name": "stderr",
     "output_type": "stream",
     "text": [
      "/Users/edgarpal/anaconda3/lib/python3.6/site-packages/surprise/prediction_algorithms/algo_base.py:293: RuntimeWarning: invalid value encountered in sqrt\n",
      "  sim = construction_func[name](*args)\n"
     ]
    },
    {
     "name": "stdout",
     "output_type": "stream",
     "text": [
      "Done computing similarity matrix.\n",
      "RMSE: 1.1747\n"
     ]
    }
   ],
   "source": [
    "for trainset, testset in kf.split(data_norm):\n",
    "\n",
    "    # train and test algorithm.\n",
    "    algo.fit(trainset)\n",
    "    predictions = algo.test(testset)\n",
    "\n",
    "    # Compute and print Root Mean Squared Error\n",
    "    accuracy.rmse(predictions, verbose=True)"
   ]
  },
  {
   "cell_type": "code",
   "execution_count": null,
   "metadata": {},
   "outputs": [],
   "source": []
  }
 ],
 "metadata": {
  "kernelspec": {
   "display_name": "Python 3",
   "language": "python",
   "name": "python3"
  },
  "language_info": {
   "codemirror_mode": {
    "name": "ipython",
    "version": 3
   },
   "file_extension": ".py",
   "mimetype": "text/x-python",
   "name": "python",
   "nbconvert_exporter": "python",
   "pygments_lexer": "ipython3",
   "version": "3.6.4"
  }
 },
 "nbformat": 4,
 "nbformat_minor": 2
}
